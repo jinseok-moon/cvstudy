{
 "cells": [
  {
   "cell_type": "markdown",
   "id": "88e17259-fea7-4d97-b507-2f38d5766a6a",
   "metadata": {},
   "source": [
    "# CNN 02 - Forward/backward propagation\n",
    "Last updated: 21.11.02\n",
    "Written by Jinseok Moon"
   ]
  },
  {
   "cell_type": "code",
   "execution_count": 1,
   "id": "d6938f28-b79c-4294-a7ab-8f31633e17e9",
   "metadata": {},
   "outputs": [
    {
     "data": {
      "application/javascript": [
       "MathJax.Hub.Config({\n",
       "    TeX: { equationNumbers: { autoNumber: \"AMS\" } }\n",
       "});\n"
      ],
      "text/plain": [
       "<IPython.core.display.Javascript object>"
      ]
     },
     "metadata": {},
     "output_type": "display_data"
    }
   ],
   "source": [
    "%%javascript\n",
    "MathJax.Hub.Config({\n",
    "    TeX: { equationNumbers: { autoNumber: \"AMS\" } }\n",
    "});\n"
   ]
  },
  {
   "cell_type": "code",
   "execution_count": 20,
   "id": "7a427f32-bf65-4f51-a4ff-91fc7f49f994",
   "metadata": {},
   "outputs": [
    {
     "name": "stdout",
     "output_type": "stream",
     "text": [
      "g1 = [5.1 2.1]\n",
      "h1 = [0.9939402  0.89090318]\n"
     ]
    }
   ],
   "source": [
    "# Basic import\n",
    "import numpy as np\n",
    "\n",
    "def sigmoid(x):\n",
    "    return 1 / (1 +np.exp(-x))\n",
    "\n",
    "# Input layer\n",
    "input_data = np.array([2, 4, 3])\n",
    "x = input_data.reshape(-1)\n",
    "\n",
    "# First layer\n",
    "w1 = np.array([0.7, 0.3, 0.9]) # w11, w21, w31\n",
    "w2 = np.array([0.2, 0.4, 0.1]) # w12, w22, w32\n",
    "b1 = -0.2\n",
    "\n",
    "W = np.array([w1, w2])\n",
    "b = np.array([b1, b1])\n",
    "g1x = np.dot(W, x) + b\n",
    "h1x = sigmoid(g1x)\n",
    "\n",
    "print(\"g1 =\",g1x) # g1 = [3.9 3.6]\n",
    "print(\"h1 =\", h1x) # h1 = [0.98015969 0.97340301]"
   ]
  },
  {
   "cell_type": "code",
   "execution_count": 22,
   "id": "f34860dd-5359-418f-84b6-161df80669f0",
   "metadata": {},
   "outputs": [
    {
     "name": "stdout",
     "output_type": "stream",
     "text": [
      "g2 = [1.04484561 1.65151343]\n",
      "h2 = [0.73978389 0.83909549]\n"
     ]
    }
   ],
   "source": [
    "# Second layer\n",
    "\n",
    "w3 = np.array([0.1, 0.5]) # w41, w42\n",
    "w4 = np.array([0.8, 0.4]) # w51, w52\n",
    "b2 = 0.5\n",
    "\n",
    "W_ = np.array([w3, w4])\n",
    "b_ = np.array([b2, b2])\n",
    "g2x = np.dot(W_, h1x) + b_\n",
    "h2x = sigmoid(g2x)\n",
    "\n",
    "print(\"g2 =\",g2x) # g2 = [1.04484561 1.65151343]\n",
    "print(\"h2 =\", h2x) # h2 = [0.73978389 0.83909549]"
   ]
  }
 ],
 "metadata": {
  "jupytext": {
   "formats": "ipynb,auto:light"
  },
  "kernelspec": {
   "display_name": "Python 3 (ipykernel)",
   "language": "python",
   "name": "python3"
  },
  "language_info": {
   "codemirror_mode": {
    "name": "ipython",
    "version": 3
   },
   "file_extension": ".py",
   "mimetype": "text/x-python",
   "name": "python",
   "nbconvert_exporter": "python",
   "pygments_lexer": "ipython3",
   "version": "3.8.10"
  }
 },
 "nbformat": 4,
 "nbformat_minor": 5
}
