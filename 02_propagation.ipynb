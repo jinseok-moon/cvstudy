{
 "cells": [
  {
   "cell_type": "markdown",
   "id": "88e17259-fea7-4d97-b507-2f38d5766a6a",
   "metadata": {},
   "source": [
    "# CNN 02 - Forward/backward propagation\n",
    "Last updated: 21.11.02\n",
    "Written by Jinseok Moon"
   ]
  },
  {
   "cell_type": "code",
   "execution_count": 2,
   "id": "d6938f28-b79c-4294-a7ab-8f31633e17e9",
   "metadata": {},
   "outputs": [
    {
     "data": {
      "application/javascript": [
       "MathJax.Hub.Config({\n",
       "    TeX: { equationNumbers: { autoNumber: \"AMS\" } }\n",
       "});\n"
      ],
      "text/plain": [
       "<IPython.core.display.Javascript object>"
      ]
     },
     "metadata": {},
     "output_type": "display_data"
    }
   ],
   "source": [
    "%%javascript\n",
    "MathJax.Hub.Config({\n",
    "    TeX: { equationNumbers: { autoNumber: \"AMS\" } }\n",
    "});\n"
   ]
  },
  {
   "cell_type": "code",
   "execution_count": 10,
   "id": "7a427f32-bf65-4f51-a4ff-91fc7f49f994",
   "metadata": {},
   "outputs": [
    {
     "name": "stdout",
     "output_type": "stream",
     "text": [
      "g1 = [2.6 2. ]\n",
      "h1 = [0.93086158 0.88079708]\n"
     ]
    }
   ],
   "source": [
    "import numpy as np\n",
    "\n",
    "def sigmoid(x, diff=False):\n",
    "    if diff==True:\n",
    "        return sigmoid(x)*(1-sigmoid(x));\n",
    "    else:\n",
    "        return 1 / (1 +np.exp(-x))\n",
    "\n",
    "# Input layer\n",
    "x_input = np.array([2, 4])  # x1, x2\n",
    "y_true = [0.8, 0.4]  # y1. y2: ground truth\n",
    "x = x_input.reshape(-1)\n",
    "\n",
    "# First layer\n",
    "w1 = np.array([0.7, 0.3]) # w11, w21\n",
    "w2 = np.array([0.2, 0.4]) # w12, w22\n",
    "\n",
    "W = np.array([w1, w2])\n",
    "g1x = np.dot(W, x)\n",
    "h1x = sigmoid(g1x)\n",
    "\n",
    "print(\"g1 =\",g1x) # g1 = [2.6 2. ]\n",
    "print(\"h1 =\", h1x) # h1 = [0.93086158 0.88079708]"
   ]
  },
  {
   "cell_type": "code",
   "execution_count": 5,
   "id": "f34860dd-5359-418f-84b6-161df80669f0",
   "metadata": {},
   "outputs": [
    {
     "name": "stdout",
     "output_type": "stream",
     "text": [
      "g2 = [0.5334847  1.09700809]\n",
      "h2 = [0.63029549 0.74969909]\n"
     ]
    }
   ],
   "source": [
    "# Second layer\n",
    "\n",
    "w3 = np.array([0.1, 0.5]) # w41, w42\n",
    "w4 = np.array([0.8, 0.4]) # w51, w52\n",
    "\n",
    "W_ = np.array([w3, w4])\n",
    "g2x = np.dot(W_, h1x)\n",
    "h2x = sigmoid(g2x)\n",
    "y_predict = h2x  # [y1p, y2p]\n",
    "\n",
    "print(\"g2 =\",g2x) # g2 = [0.5334847  1.09700809]\n",
    "print(\"h2 =\", h2x) # h2 = [0.63029549 0.74969909]"
   ]
  },
  {
   "cell_type": "markdown",
   "id": "b604dc3d-f7cc-443d-b8f4-9e85d61dcad1",
   "metadata": {},
   "source": [
    "\\begin{equation}\\label{eqn:eq1}\n",
    "\\begin{split}\n",
    "g_1(x) &=  \\sum^{n}_{i} x_iw_i + b = W_1^Tx \\\\[5pt]\n",
    "    &= \\left( \\begin{matrix}  w_{11} & w_{21} \\newline w_{12} & w_{22} \\end{matrix} \\right) \\left( \\begin{matrix}  x_{1} \\newline x_{2} \\end{matrix} \\right)\n",
    "\\end{split}\n",
    "\\end{equation}\n",
    "\n",
    "이번에는 활성화 함수로 계단함수가 아닌 sigmoid function $\\sigma(x)$를 이용한다.\n",
    "\n",
    "\\begin{align}\n",
    "\\label{eqn:eq2} h(x) &= \\sigma(x) = {1 \\over 1 + e^{-x}} \\\\[5pt]\n",
    "\\label{eqn:eq3} \\hat{y} &= h(x)\n",
    "\\end{align}\n",
    "\n",
    "\n"
   ]
  },
  {
   "cell_type": "markdown",
   "id": "4e8106b8-158b-495c-b052-676ec9e3cf22",
   "metadata": {},
   "source": [
    "최종 계산해보면, $\\hat{y_1}=0.630, \\hat{y_2}=0.750$을 얻을 수 있다. 실제 $y_1=0.8, y_2=0.4$라고 가정했을 때, 퍼셉트론에서 예측한 값과 오차가 발생하게 된다."
   ]
  },
  {
   "cell_type": "markdown",
   "id": "6a87ef1e-411e-41f7-b968-fbd5c2fa254a",
   "metadata": {},
   "source": [
    "## 비용함수 (Cost function)\n",
    "우리는 퍼셉트론의 순전파/역전파를 이용해서 가중치들을 조정해 줄 것이다. 그리고 이 때 필요한 것이 바로 비용함수와 미분이다.\n",
    "$\\sigma(x)$의 미분은 $\\sigma(x)(1-\\sigma(x)$)로 나타낼 수 "
   ]
  },
  {
   "cell_type": "code",
   "execution_count": 6,
   "id": "af7e8834-7f53-44c3-82fd-221ee79824b0",
   "metadata": {},
   "outputs": [],
   "source": [
    "def cost(y_predict, y_true):\n",
    "    return (y_true-y_predict)*(y_true-y_predict)/2"
   ]
  },
  {
   "cell_type": "code",
   "execution_count": 7,
   "id": "6274481b-171e-47b2-8eae-7933f43c8038",
   "metadata": {},
   "outputs": [
    {
     "data": {
      "text/plain": [
       "array([0.01439981, 0.06114473])"
      ]
     },
     "execution_count": 7,
     "metadata": {},
     "output_type": "execute_result"
    }
   ],
   "source": [
    "cost(y_predict, y_true)"
   ]
  }
 ],
 "metadata": {
  "jupytext": {
   "encoding": "# -*- coding: utf-8 -*-",
   "formats": "ipynb,py:light"
  },
  "kernelspec": {
   "display_name": "Python 3 (ipykernel)",
   "language": "python",
   "name": "python3"
  },
  "language_info": {
   "codemirror_mode": {
    "name": "ipython",
    "version": 3
   },
   "file_extension": ".py",
   "mimetype": "text/x-python",
   "name": "python",
   "nbconvert_exporter": "python",
   "pygments_lexer": "ipython3",
   "version": "3.8.10"
  }
 },
 "nbformat": 4,
 "nbformat_minor": 5
}
