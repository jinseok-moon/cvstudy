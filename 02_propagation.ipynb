{
 "cells": [
  {
   "cell_type": "markdown",
   "id": "88e17259-fea7-4d97-b507-2f38d5766a6a",
   "metadata": {},
   "source": [
    "# CNN 02 - Forward/backward propagation\n",
    "Last updated: 21.11.14\n",
    "Written by Jinseok Moon"
   ]
  },
  {
   "cell_type": "code",
   "execution_count": 45,
   "id": "d6938f28-b79c-4294-a7ab-8f31633e17e9",
   "metadata": {},
   "outputs": [
    {
     "data": {
      "application/javascript": [
       "MathJax.Hub.Config({\n",
       "    TeX: { equationNumbers: { autoNumber: \"AMS\" } }\n",
       "});\n"
      ],
      "text/plain": [
       "<IPython.core.display.Javascript object>"
      ]
     },
     "metadata": {},
     "output_type": "display_data"
    }
   ],
   "source": [
    "%%javascript\n",
    "MathJax.Hub.Config({\n",
    "    TeX: { equationNumbers: { autoNumber: \"AMS\" } }\n",
    "});"
   ]
  },
  {
   "cell_type": "code",
   "execution_count": 135,
   "id": "7a427f32-bf65-4f51-a4ff-91fc7f49f994",
   "metadata": {},
   "outputs": [
    {
     "name": "stdout",
     "output_type": "stream",
     "text": [
      "g = [2.6 2. ]\n",
      "h = [0.93086158 0.88079708]\n"
     ]
    }
   ],
   "source": [
    "import numpy as np\n",
    "\n",
    "def sigmoid(x):\n",
    "    return 1 / (1 +np.exp(-x))\n",
    "\n",
    "# Input layer\n",
    "x_input = np.array([2, 4])  # x1, x2\n",
    "y_true = np.array([0.8, 0.4])  # y1. y2: ground truth\n",
    "x = x_input.reshape(-1)\n",
    "\n",
    "# First layer\n",
    "w1 = np.array([0.7, 0.3]) # w11, w21\n",
    "w2 = np.array([0.2, 0.4]) # w12, w22\n",
    "\n",
    "W_1 = np.array([w1, w2])\n",
    "g = np.dot(W, x)\n",
    "h = sigmoid(g)\n",
    "\n",
    "print(\"g =\",g) # g = [2.6 2. ]\n",
    "print(\"h =\", h) # h = [0.93086158 0.88079708]"
   ]
  },
  {
   "cell_type": "code",
   "execution_count": 67,
   "id": "f34860dd-5359-418f-84b6-161df80669f0",
   "metadata": {},
   "outputs": [
    {
     "name": "stdout",
     "output_type": "stream",
     "text": [
      "z = [0.5334847  1.09700809]\n",
      "t = [0.63029549 0.74969909]\n"
     ]
    }
   ],
   "source": [
    "# Second layer\n",
    "\n",
    "w3 = np.array([0.1, 0.5]) # w31, w41\n",
    "w4 = np.array([0.8, 0.4]) # w32, w42\n",
    "\n",
    "W_2 = np.array([w3, w4])\n",
    "z = np.dot(W_2, h)\n",
    "t = sigmoid(z)\n",
    "y_predict = t  # [y1p, y2p]\n",
    "\n",
    "print(\"z =\", z) # g2 = [0.5334847  1.09700809]\n",
    "print(\"t =\", t) # t = [0.63029549 0.74969909]"
   ]
  },
  {
   "cell_type": "markdown",
   "id": "b604dc3d-f7cc-443d-b8f4-9e85d61dcad1",
   "metadata": {},
   "source": [
    "\\begin{equation}\\label{eqn:eq1}\n",
    "\\begin{split}\n",
    "g_1(x) &=  \\sum^{n}_{i} x_iw_i + b = W_1^Tx \\\\[5pt]\n",
    "    &= \\left( \\begin{matrix}  w_{11} & w_{21} \\newline w_{12} & w_{22} \\end{matrix} \\right) \\left( \\begin{matrix}  x_{1} \\newline x_{2} \\end{matrix} \\right)\n",
    "\\end{split}\n",
    "\\end{equation}\n",
    "\n",
    "이번에는 활성화 함수로 계단함수가 아닌 sigmoid function $\\sigma(x)$를 이용한다.\n",
    "\n",
    "\\begin{align}\n",
    "\\label{eqn:eq2} h(x) &= \\sigma(x) = {1 \\over 1 + e^{-x}} \\\\[5pt]\n",
    "\\label{eqn:eq3} \\hat{y} &= h(x)\n",
    "\\end{align}"
   ]
  },
  {
   "cell_type": "markdown",
   "id": "4e8106b8-158b-495c-b052-676ec9e3cf22",
   "metadata": {},
   "source": [
    "최종 계산해보면, $\\hat{y_1}=0.630, \\hat{y_2}=0.750$을 얻을 수 있다. 실제 $y_1=0.8, y_2=0.4$라고 가정했을 때, 퍼셉트론에서 예측한 값과 오차가 발생하게 된다."
   ]
  },
  {
   "cell_type": "markdown",
   "id": "5de10ff0-f609-453c-9437-be7c8ac65c90",
   "metadata": {},
   "source": [
    "## 비용함수 (Cost function)\n",
    "우리는 퍼셉트론의 순전파/역전파를 이용해서 가중치들을 조정해 줄 것이다. 그리고 이 때 필요한 것이 바로 비용함수와 미분이다.\n",
    "$\\sigma(x)$의 미분은 $\\sigma(x)(1-\\sigma(x)$)로 나타낼 수 있다. 유도식은 추후 추가.\n",
    "비용함수는 C는 아래와 같이 정의한다. \n",
    "\n",
    "\\begin{align}\n",
    "\\label{eqn:eq1} C &= {1 \\over 2} \\left[(y_1 - t_1)^2 + (y_2 - t_2)^2\\right]  \\\\[5pt]\n",
    "\\label{eqn:eq2} \\frac{\\partial C}{\\partial t_1} &= y_1-t_1, \\qquad \\frac{\\partial C}{\\partial t_2} = y_2-t_2 \n",
    "\\end{align}\n",
    "\n",
    "\\begin{equation}\\label{eqn:eq3}\n",
    "\\begin{split}\n",
    "z &= W_2^T h, & {dz \\over dW_2}&= h\\\\[5pt]\n",
    "\\left( \\begin{matrix}  z_{1} \\newline z_{2} \\end{matrix} \\right)  &=  \\left( \\begin{matrix}  w_{31} & w_{41} \\newline w_{32} & w_{42} \\end{matrix} \\right) \\left( \\begin{matrix}  h_{1} \\newline h_{2} \\end{matrix} \\right) \\\\[5pt]\n",
    "z_1 &= w_{31}h_1 + w_{41}h_2 \\\\[5pt]\n",
    "z_2 &= w_{32}h_1 + w_{42}h_2 \\\\[5pt]\n",
    "{dz_1 \\over dw_{31}}&= h_1, \\enspace {dz_1 \\over dw_{41}}= h_2 \\\\[5pt]\n",
    "{dz_2 \\over dw_{32}}&= h_1, \\enspace {dz_1 \\over dw_{42}}= h_2 \\\\[5pt]\n",
    "\\end{split}\n",
    "\\end{equation}\n",
    "\n",
    "이번에는 활성화 함수로 계단함수가 아닌 sigmoid function $\\sigma(x)$를 이용한다.\n",
    "\n",
    "\\begin{align}\n",
    "\\label{eqn:eq4} h(x) &= \\sigma(x) = {1 \\over 1 + e^{-x}} \\\\[5pt]\n",
    "\\label{eqn:eq5} \\hat{y} &= h(x)\n",
    "\\end{align}\n",
    "\n",
    "\n"
   ]
  },
  {
   "cell_type": "code",
   "execution_count": 166,
   "id": "1e131b31-e188-40bd-ab0f-f6a5c0f10427",
   "metadata": {},
   "outputs": [],
   "source": [
    "def sigmoid(x):\n",
    "    return 1 / (1 +np.exp(-x))\n",
    "\n",
    "def GetCost(y_true, y_predict):\n",
    "    cost = 1/2*(y_predict-y_true)**2\n",
    "    return cost\n",
    "\n",
    "def GetGradient(x, y, W1, W2, learning_rate=0.05, epoch=100, return_cost=False):\n",
    "    errlst = []\n",
    "\n",
    "    for epochs in range(epoch):\n",
    "        g = np.dot(W1, x)\n",
    "        h = sigmoid(g)\n",
    "        \n",
    "        z = np.dot(W2, h)\n",
    "        t = sigmoid(z)\n",
    "        \n",
    "        cost = GetCost(y, t)\n",
    "        dCdt = t-y # dCdt1, dCdt2\n",
    "        dtdz = sigmoid(z)*(1-sigmoid(z)) # dt1dz1, dt2dz2\n",
    "        \n",
    "        dz1dh1 = W2[0][0]\n",
    "        dz1dh2 = W2[0][1]\n",
    "        dz2dh1 = W2[1][0]\n",
    "        dz2dh2 = W2[1][1]\n",
    "        \n",
    "        dz1dw31 = h[0]\n",
    "        dz1dw41 = h[1]\n",
    "        dz2dw32 = h[0]\n",
    "        dz2dw42 = h[1]\n",
    "        \n",
    "        dCdw31 = dCdt[0]*dtdz[0]*dz1dw31\n",
    "        dCdw41 = dCdt[0]*dtdz[0]*dz1dw41\n",
    "        dCdw32 = dCdt[1]*dtdz[1]*dz2dw32\n",
    "        dCdw42 = dCdt[1]*dtdz[1]*dz2dw42\n",
    "        \n",
    "        dCdh1 = dCdt[0]*dtdz[0]*dz1dh1 + dCdt[1]*dtdz[1]*dz2dh1\n",
    "        dCdh2 = dCdt[0]*dtdz[0]*dz1dh2 + dCdt[1]*dtdz[1]*dz2dh2\n",
    "        \n",
    "        dhdg = sigmoid(g)*(1-sigmoid(g)) # dh1dg1, dh2dg2\n",
    "        \n",
    "        dg1dw11 = x[0]\n",
    "        dg1dw21 = x[1]\n",
    "        dg2dw12 = x[0]\n",
    "        dg2dw22 = x[1]\n",
    "        \n",
    "        dCdw11 = dCdh1*dhdg[0]*dg1dw11\n",
    "        dCdw21 = dCdh1*dhdg[0]*dg1dw21\n",
    "        dCdw12 = dCdh2*dhdg[1]*dg2dw12\n",
    "        dCdw22 = dCdh2*dhdg[1]*dg2dw22\n",
    "        \n",
    "        W1[0][0] -= learning_rate*dCdw11\n",
    "        W1[0][1] -= learning_rate*dCdw21\n",
    "        W1[1][0] -= learning_rate*dCdw12\n",
    "        W1[1][1] -= learning_rate*dCdw22\n",
    "        \n",
    "        W2[0][0] -= learning_rate*dCdw31\n",
    "        W2[0][1] -= learning_rate*dCdw41\n",
    "        W2[1][0] -= learning_rate*dCdw32\n",
    "        W2[1][1] -= learning_rate*dCdw42\n",
    "        if return_cost==True:\n",
    "            errlst.append(np.sum(cost))\n",
    "        print(\"Epoch: [{0}/{1}], predict: {2}, Cost: {3}\".format(epochs, epoch,t ,  np.sum(cost)))\n",
    "    if return_cost==True:\n",
    "        return errlst\n",
    "    else:\n",
    "        return "
   ]
  },
  {
   "cell_type": "code",
   "execution_count": 168,
   "id": "e7f7e1b5-d842-4cc2-b49b-270547b086d0",
   "metadata": {
    "tags": []
   },
   "outputs": [
    {
     "name": "stdout",
     "output_type": "stream",
     "text": [
      "Epoch: [0/100], predict: [0.63029549 0.74969909], Cost: 0.07554453738003918\n",
      "Epoch: [1/100], predict: [0.63474189 0.74337071], Cost: 0.07260684328278962\n",
      "Epoch: [2/100], predict: [0.63902103 0.73697141], Cost: 0.06973198150469195\n",
      "Epoch: [3/100], predict: [0.64314166 0.73051004], Cost: 0.06692071360483501\n",
      "Epoch: [4/100], predict: [0.64711211 0.72399582], Cost: 0.0641740013901004\n",
      "Epoch: [5/100], predict: [0.65094026 0.71743831], Cost: 0.061492943713737286\n",
      "Epoch: [6/100], predict: [0.65463358 0.71084729], Cost: 0.05887871661051838\n",
      "Epoch: [7/100], predict: [0.65819911 0.70423271], Cost: 0.05633251763213302\n",
      "Epoch: [8/100], predict: [0.66164345 0.69760459], Cost: 0.0538555151119816\n",
      "Epoch: [9/100], predict: [0.66497283 0.69097297], Cost: 0.05144880293878543\n",
      "Epoch: [10/100], predict: [0.66819307 0.68434777], Cost: 0.0491133612581857\n",
      "Epoch: [11/100], predict: [0.67130964 0.67773879], Cost: 0.04685002335666762\n",
      "Epoch: [12/100], predict: [0.67432762 0.67115558], Cost: 0.044659448819079836\n",
      "Epoch: [13/100], predict: [0.67725177 0.6646074 ], Cost: 0.042542102895934034\n",
      "Epoch: [14/100], predict: [0.68008652 0.65810316], Cost: 0.04049824187512503\n",
      "Epoch: [15/100], predict: [0.682836   0.65165136], Cost: 0.03852790412921815\n",
      "Epoch: [16/100], predict: [0.68550407 0.64526005], Cost: 0.03663090640723832\n",
      "Epoch: [17/100], predict: [0.68809428 0.63893681], Cost: 0.03480684486082615\n",
      "Epoch: [18/100], predict: [0.69060999 0.63268869], Cost: 0.03305510023923233\n",
      "Epoch: [19/100], predict: [0.69305429 0.6265222 ], Cost: 0.03137484665522887\n",
      "Epoch: [20/100], predict: [0.69543008 0.62044332], Cost: 0.029765063312978002\n",
      "Epoch: [21/100], predict: [0.69774005 0.61445745], Cost: 0.028224548596801874\n",
      "Epoch: [22/100], predict: [0.69998673 0.60856946], Cost: 0.02675193594375163\n",
      "Epoch: [23/100], predict: [0.70217248 0.60278362], Cost: 0.02534571095972068\n",
      "Epoch: [24/100], predict: [0.7042995  0.59710371], Cost: 0.02400422928539228\n",
      "Epoch: [25/100], predict: [0.70636989 0.59153295], Cost: 0.022725734771475773\n",
      "Epoch: [26/100], predict: [0.70838559 0.58607406], Cost: 0.021508377579655902\n",
      "Epoch: [27/100], predict: [0.71034845 0.58072925], Cost: 0.020350231883973426\n",
      "Epoch: [28/100], predict: [0.71226022 0.5755003 ], Cost: 0.01924931290489481\n",
      "Epoch: [29/100], predict: [0.71412255 0.57038852], Cost: 0.018203593063435976\n",
      "Epoch: [30/100], predict: [0.71593701 0.56539483], Cost: 0.01721101709411028\n",
      "Epoch: [31/100], predict: [0.71770511 0.56051973], Cost: 0.01626951600228231\n",
      "Epoch: [32/100], predict: [0.71942826 0.55576339], Cost: 0.015377019793163312\n",
      "Epoch: [33/100], predict: [0.72110784 0.55112566], Cost: 0.014531468935917932\n",
      "Epoch: [34/100], predict: [0.72274515 0.54660606], Cost: 0.013730824557131675\n",
      "Epoch: [35/100], predict: [0.72434145 0.54220386], Cost: 0.012973077383376287\n",
      "Epoch: [36/100], predict: [0.72589795 0.53791808], Cost: 0.01225625547310874\n",
      "Epoch: [37/100], predict: [0.72741581 0.53374751], Cost: 0.011578430794048569\n",
      "Epoch: [38/100], predict: [0.72889614 0.52969075], Cost: 0.010937724713966259\n",
      "Epoch: [39/100], predict: [0.73034003 0.52574623], Cost: 0.01033231248097645\n",
      "Epoch: [40/100], predict: [0.73174853 0.52191222], Cost: 0.009760426774469455\n",
      "Epoch: [41/100], predict: [0.73312264 0.51818688], Cost: 0.009220360410224032\n",
      "Epoch: [42/100], predict: [0.73446333 0.51456824], Cost: 0.008710468283487679\n",
      "Epoch: [43/100], predict: [0.73577156 0.51105424], Cost: 0.008229168632316482\n",
      "Epoch: [44/100], predict: [0.73704824 0.50764276], Cost: 0.007774943700620509\n",
      "Epoch: [45/100], predict: [0.73829425 0.50433159], Cost: 0.007346339876501344\n",
      "Epoch: [46/100], predict: [0.73951045 0.50111849], Cost: 0.006941967376892451\n",
      "Epoch: [47/100], predict: [0.74069769 0.4980012 ], Cost: 0.0065604995444668\n",
      "Epoch: [48/100], predict: [0.74185676 0.4949774 ], Cost: 0.006200671817469422\n",
      "Epoch: [49/100], predict: [0.74298845 0.49204479], Cost: 0.005861280427732535\n",
      "Epoch: [50/100], predict: [0.74409352 0.48920105], Cost: 0.005541180876772145\n",
      "Epoch: [51/100], predict: [0.74517271 0.48644386], Cost: 0.005239286234650942\n",
      "Epoch: [52/100], predict: [0.74622674 0.48377092], Cost: 0.004954565301300835\n",
      "Epoch: [53/100], predict: [0.74725629 0.48117994], Cost: 0.00468604066528253\n",
      "Epoch: [54/100], predict: [0.74826204 0.47866865], Cost: 0.004432786690558795\n",
      "Epoch: [55/100], predict: [0.74924465 0.47623483], Cost: 0.004193927457789397\n",
      "Epoch: [56/100], predict: [0.75020474 0.47387626], Cost: 0.003968634682931833\n",
      "Epoch: [57/100], predict: [0.75114294 0.47159077], Cost: 0.003756125632549536\n",
      "Epoch: [58/100], predict: [0.75205983 0.46937624], Cost: 0.003555661052181392\n",
      "Epoch: [59/100], predict: [0.75295601 0.46723057], Cost: 0.003366543121399671\n",
      "Epoch: [60/100], predict: [0.75383202 0.46515171], Cost: 0.003188113446760112\n",
      "Epoch: [61/100], predict: [0.75468842 0.46313765], Cost: 0.003019751101709151\n",
      "Epoch: [62/100], predict: [0.75552573 0.46118644], Cost: 0.002860870720636627\n",
      "Epoch: [63/100], predict: [0.75634446 0.45929616], Cost: 0.002710920652627844\n",
      "Epoch: [64/100], predict: [0.75714511 0.45746495], Cost: 0.0025693811790530215\n",
      "Epoch: [65/100], predict: [0.75792816 0.45569099], Cost: 0.0024357627979153295\n",
      "Epoch: [66/100], predict: [0.75869408 0.4539725 ], Cost: 0.002309604576839323\n",
      "Epoch: [67/100], predict: [0.75944333 0.45230776], Cost: 0.0021904725757014246\n",
      "Epoch: [68/100], predict: [0.76017633 0.45069509], Cost: 0.002077958339164661\n",
      "Epoch: [69/100], predict: [0.76089352 0.44913287], Cost: 0.001971677458764225\n",
      "Epoch: [70/100], predict: [0.76159532 0.4476195 ], Cost: 0.0018712682036845756\n",
      "Epoch: [71/100], predict: [0.76228211 0.44615345], Cost: 0.0017763902189571494\n",
      "Epoch: [72/100], predict: [0.7629543  0.44473324], Cost: 0.0016867232894793526\n",
      "Epoch: [73/100], predict: [0.76361225 0.4433574 ], Cost: 0.0016019661679980133\n",
      "Epoch: [74/100], predict: [0.76425634 0.44202454], Cost: 0.001521835465004371\n",
      "Epoch: [75/100], predict: [0.76488691 0.44073328], Cost: 0.0014460645983438206\n",
      "Epoch: [76/100], predict: [0.76550432 0.43948232], Cost: 0.0013744028002441494\n",
      "Epoch: [77/100], predict: [0.7661089  0.43827037], Cost: 0.0013066141794039992\n",
      "Epoch: [78/100], predict: [0.76670096 0.4370962 ], Cost: 0.0012424768357524492\n",
      "Epoch: [79/100], predict: [0.76728084 0.43595859], Cost: 0.0011817820254859364\n",
      "Epoch: [80/100], predict: [0.76784882 0.43485639], Cost: 0.001124333374005389\n",
      "Epoch: [81/100], predict: [0.76840521 0.43378848], Cost: 0.0010699461344102696\n",
      "Epoch: [82/100], predict: [0.76895029 0.43275376], Cost: 0.0010184464892542763\n",
      "Epoch: [83/100], predict: [0.76948435 0.43175117], Cost: 0.0009696708933262372\n",
      "Epoch: [84/100], predict: [0.77000765 0.4307797 ], Cost: 0.0009234654552870056\n",
      "Epoch: [85/100], predict: [0.77052046 0.42983835], Cost: 0.000879685356066867\n",
      "Epoch: [86/100], predict: [0.77102302 0.42892617], Cost: 0.0008381943020058444\n",
      "Epoch: [87/100], predict: [0.7715156  0.42804224], Cost: 0.0007988640108005515\n",
      "Epoch: [88/100], predict: [0.77199843 0.42718565], Cost: 0.0007615737284038611\n",
      "Epoch: [89/100], predict: [0.77247175 0.42635555], Cost: 0.0007262097751070552\n",
      "Epoch: [90/100], predict: [0.77293577 0.42555108], Cost: 0.0006926651191173365\n",
      "Epoch: [91/100], predict: [0.77339073 0.42477145], Cost: 0.0006608389760259218\n",
      "Epoch: [92/100], predict: [0.77383683 0.42401586], Cost: 0.0006306364326425585\n",
      "Epoch: [93/100], predict: [0.77427429 0.42328356], Cost: 0.0006019680937513598\n",
      "Epoch: [94/100], predict: [0.7747033 0.4225738], Cost: 0.0005747497504194933\n",
      "Epoch: [95/100], predict: [0.77512407 0.42188589], Cost: 0.000548902068564166\n",
      "Epoch: [96/100], predict: [0.77553678 0.42121913], Cost: 0.0005243502965550827\n",
      "Epoch: [97/100], predict: [0.77594162 0.42057285], Cost: 0.0005010239906978482\n",
      "Epoch: [98/100], predict: [0.77633877 0.41994642], Cost: 0.00047885675750966263\n",
      "Epoch: [99/100], predict: [0.77672841 0.41933921], Cost: 0.00045778601176134565\n"
     ]
    }
   ],
   "source": [
    "# Input layer\n",
    "x_input = np.array([2, 4])  # x1, x2\n",
    "y_true = np.array([0.8, 0.4])  # y1. y2: ground truth\n",
    "x = x_input.reshape(-1)\n",
    "\n",
    "# First layer\n",
    "w1 = np.array([0.7, 0.3]) # w11, w21\n",
    "w2 = np.array([0.2, 0.4]) # w12, w22\n",
    "\n",
    "W_1 = np.array([w1, w2])\n",
    "\n",
    "w3 = np.array([0.1, 0.5]) # w31, w41\n",
    "w4 = np.array([0.8, 0.4]) # w32, w42\n",
    "\n",
    "W_2 = np.array([w3, w4])\n",
    "\n",
    "errlst = GetGradient(x, y_true, W_1, W_2, learning_rate=0.3, return_cost=True)"
   ]
  },
  {
   "cell_type": "code",
   "execution_count": 163,
   "id": "209ff0c0-0eab-4dcf-8e33-218feb5922da",
   "metadata": {},
   "outputs": [],
   "source": [
    "import matplotlib.pyplot as plt"
   ]
  },
  {
   "cell_type": "code",
   "execution_count": 169,
   "id": "5db84259-7727-461b-b54e-20d835e3c2f3",
   "metadata": {},
   "outputs": [
    {
     "data": {
      "image/png": "[encoded data removed]",
      "text/plain": [
       "<Figure size 432x288 with 1 Axes>"
      ]
     },
     "metadata": {
      "needs_background": "light"
     },
     "output_type": "display_data"
    }
   ],
   "source": [
    "plt.plot(errlst)\n",
    "plt.ylabel(\"Cost\")\n",
    "plt.xlabel(\"Epochs\")\n",
    "plt.show()"
   ]
  },
  {
   "cell_type": "markdown",
   "id": "a7816b6d-1ad7-4af2-b853-8757086c46b8",
   "metadata": {},
   "source": [
    "## References\n",
    "[<sup id=\"fn1\">1</sup>](#fn1-back) 선형대수와 통계학으로 배우는 머신러닝 with Python. https://github.com/bjpublic/MachineLearning"
   ]
  }
 ],
 "metadata": {
  "jupytext": {
   "encoding": "# -*- coding: utf-8 -*-",
   "formats": "ipynb,py:light"
  },
  "kernelspec": {
   "display_name": "Python 3 (ipykernel)",
   "language": "python",
   "name": "python3"
  },
  "language_info": {
   "codemirror_mode": {
    "name": "ipython",
    "version": 3
   },
   "file_extension": ".py",
   "mimetype": "text/x-python",
   "name": "python",
   "nbconvert_exporter": "python",
   "pygments_lexer": "ipython3",
   "version": "3.8.10"
  }
 },
 "nbformat": 4,
 "nbformat_minor": 5
}
