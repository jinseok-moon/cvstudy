{
 "cells": [
  {
   "cell_type": "markdown",
   "id": "2b08550a-9975-426b-aa04-c53249776a04",
   "metadata": {},
   "source": [
    "# CNN 01 - Perceptron\n",
    "Last updated: 21.10.06\n",
    "Written by Jinseok Moon"
   ]
  },
  {
   "cell_type": "code",
   "execution_count": 5,
   "id": "429f027a-251d-4c88-a272-c2f5a4739636",
   "metadata": {},
   "outputs": [
    {
     "data": {
      "application/javascript": [
       "MathJax.Hub.Config({\n",
       "    TeX: { equationNumbers: { autoNumber: \"AMS\" } }\n",
       "});\n"
      ],
      "text/plain": [
       "<IPython.core.display.Javascript object>"
      ]
     },
     "metadata": {},
     "output_type": "display_data"
    }
   ],
   "source": [
    "%%javascript\n",
    "MathJax.Hub.Config({\n",
    "    TeX: { equationNumbers: { autoNumber: \"AMS\" } }\n",
    "});\n"
   ]
  },
  {
   "cell_type": "markdown",
   "id": "4aa7195c-3c0d-41c3-846a-0f1a5abf2b10",
   "metadata": {},
   "source": [
    "## What is perceptron?\n",
    "\n",
    "퍼셉트론[<sup id=\"fn1-back\">1</sup>](#fn1)이란 인공신경망에서 사용하는 최소 단위라고 보면 편하다. 입력값에 대하여 가중합, 활성화 함수를 통해 출력값을 얻어내는 모델이다.  \n",
    "Eq.\\ref{eqn:eq1}은 가중합을 나타내며, Eq.\\ref{eqn:eq2}는 활성화 함수를 나타내며, 퍼셉트론에서는 활성화함수로 계단함수를 이용한다.\n",
    "\n",
    "\\begin{equation}\\label{eqn:eq1} g(x) = \\sum_{i} x_iw_i \\qquad (x_0=1, w_0=1) \\end{equation}\n",
    "\n",
    "\\begin{equation}\\label{eqn:eq2} h(x) = \\begin{cases} 0, & g(x) \\leq 0 \\\\ 1, & g(x) > 0 \\end{cases} \\end{equation}\n",
    "\n",
    "\\begin{equation}\\label{eqn:eq3} \\hat{y} = h(x) \\end{equation}\n",
    "\n",
    "<center>\n",
    "\t<figure> <img src=\"./images/cnn01_01.png\" alt=\"Perceptron\" id=\"fig1\"/>\n",
    "        <figcaption>Fig.1 퍼셉트론</figcaption>\n",
    "    </figure>\n",
    "</center>\n",
    "\n",
    "Fig.[1](#fig1)의 왼쪽 부분처럼 g(x)가 한개뿐인 경우, 단층 퍼셉트론 (Single layer perceptron) 이라고 하며, 여러개를 조합한 경우 다층 퍼셉트론 (Multilayer perceptron) 이라고 한다."
   ]
  },
  {
   "cell_type": "markdown",
   "id": "5aee02a6-e894-430e-8818-3d695e8aaf6f",
   "metadata": {},
   "source": [
    "## Perceptron in python"
   ]
  },
  {
   "cell_type": "code",
   "execution_count": 20,
   "id": "173bffd5-1a65-465d-bb09-4b6a6e221336",
   "metadata": {},
   "outputs": [
    {
     "name": "stdout",
     "output_type": "stream",
     "text": [
      "[0.11920292 0.98201379]\n"
     ]
    }
   ],
   "source": [
    "# Basic import\n",
    "import numpy as np\n",
    "\n",
    "# Input layer\n",
    "input_data = np.array([[2, 3], [5, 1]])\n",
    "x = input_data.reshape(-1)\n",
    "\n",
    "# Weight & bias\n",
    "# Single layer perceptron\n",
    "w1 = np.array([2, 1, -3, 3])\n",
    "w2 = np.array([1, -3, 1, 3])\n",
    "b1 = 3\n",
    "b2 = 3\n",
    "\n",
    "# Weight sum\n",
    "W = np.array([w1, w2])\n",
    "b = np.array([b1, b2])\n",
    "weight_sum = np.dot(W, x) + b\n",
    "\n",
    "# Output layer\n",
    "output_data = 1/(1+np.exp(-weight_sum))\n",
    "\n",
    "print(output_data) # [0.11920292 0.98201379]"
   ]
  },
  {
   "cell_type": "markdown",
   "id": "fef2414c-ab50-4720-bfd1-eeefd34e48b7",
   "metadata": {},
   "source": [
    "## References\n",
    "[<sup id=\"fn1\">1</sup>](#fn1-back) Rosenblatt, F. (1958). The perceptron: A probabilistic model for information storage and organization in the brain. Psychological Review, 65(6), 386–408. https://doi.org/10.1037/h0042519  "
   ]
  }
 ],
 "metadata": {
  "jupytext": {
   "encoding": "# -*- coding: utf-8 -*-",
   "formats": "ipynb,py:light"
  },
  "kernelspec": {
   "display_name": "Python 3 (ipykernel)",
   "language": "python",
   "name": "python3"
  },
  "language_info": {
   "codemirror_mode": {
    "name": "ipython",
    "version": 3
   },
   "file_extension": ".py",
   "mimetype": "text/x-python",
   "name": "python",
   "nbconvert_exporter": "python",
   "pygments_lexer": "ipython3",
   "version": "3.8.10"
  }
 },
 "nbformat": 4,
 "nbformat_minor": 5
}
